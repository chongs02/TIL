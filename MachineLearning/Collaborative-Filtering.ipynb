{
 "cells": [
  {
   "cell_type": "code",
   "execution_count": 1,
   "metadata": {},
   "outputs": [],
   "source": [
    "critics={\n",
    "     'hhd':{'guardians of the galaxy 2':5,'christmas in august':4,'boss baby':1.5},\n",
    "     'chs':{'christmas in august':5,'boss baby':2},\n",
    "     'kmh':{'guardians of the galaxy 2':2.5,'christmas in august':2,'boss baby':1},\n",
    "     'leb':{'guardians of the galaxy 2':3.5,'christmas in august':4,'boss baby':5}\n",
    "}"
   ]
  },
  {
   "cell_type": "code",
   "execution_count": 2,
   "metadata": {},
   "outputs": [
    {
     "data": {
      "text/plain": [
       "{'guardians of the galaxy 2': 5, 'christmas in august': 4, 'boss baby': 1.5}"
      ]
     },
     "execution_count": 2,
     "metadata": {},
     "output_type": "execute_result"
    }
   ],
   "source": [
    "critics.get('hhd')"
   ]
  },
  {
   "cell_type": "code",
   "execution_count": 3,
   "metadata": {},
   "outputs": [
    {
     "data": {
      "text/plain": [
       "1.5"
      ]
     },
     "execution_count": 3,
     "metadata": {},
     "output_type": "execute_result"
    }
   ],
   "source": [
    "critics.get('hhd').get('boss baby')"
   ]
  },
  {
   "cell_type": "code",
   "execution_count": 4,
   "metadata": {},
   "outputs": [],
   "source": [
    "from math import sqrt"
   ]
  },
  {
   "cell_type": "code",
   "execution_count": 6,
   "metadata": {},
   "outputs": [
    {
     "data": {
      "text/plain": [
       "3.1622776601683795"
      ]
     },
     "execution_count": 6,
     "metadata": {},
     "output_type": "execute_result"
    }
   ],
   "source": [
    "sqrt(pow(1,2)+pow(3,2))"
   ]
  },
  {
   "cell_type": "code",
   "execution_count": 7,
   "metadata": {},
   "outputs": [],
   "source": [
    "def sim(i, j):\n",
    "    return sqrt(pow(i,2)+pow(j,2))"
   ]
  },
  {
   "cell_type": "code",
   "execution_count": 8,
   "metadata": {},
   "outputs": [
    {
     "data": {
      "text/plain": [
       "3.1622776601683795"
      ]
     },
     "execution_count": 8,
     "metadata": {},
     "output_type": "execute_result"
    }
   ],
   "source": [
    "var1 =  critics['chs']['christmas in august']-critics['leb']['christmas in august']\n",
    "var2 =  critics['chs']['boss baby']-critics['leb']['boss baby']\n",
    "sim(var1,var2) #위에서 정의한 함수"
   ]
  },
  {
   "cell_type": "code",
   "execution_count": 9,
   "metadata": {},
   "outputs": [
    {
     "name": "stdout",
     "output_type": "stream",
     "text": [
      "hhd  :  1.118033988749895\n",
      "kmh  :  3.1622776601683795\n",
      "leb  :  3.1622776601683795\n"
     ]
    }
   ],
   "source": [
    "for i in critics:\n",
    "    if i!='chs': #자기자신제외\n",
    "        num1 = critics.get('chs').get('christmas in august')- critics.get(i).get('christmas in august')\n",
    "        num2 = critics.get('chs').get('boss baby')- critics.get(i).get('boss baby')\n",
    "        print(i,\" : \", sim(num1,num2))"
   ]
  },
  {
   "cell_type": "code",
   "execution_count": 10,
   "metadata": {},
   "outputs": [
    {
     "name": "stdout",
     "output_type": "stream",
     "text": [
      "hhd  :  0.4721359549995794\n",
      "kmh  :  0.2402530733520421\n",
      "leb  :  0.2402530733520421\n"
     ]
    }
   ],
   "source": [
    "for i in critics:\n",
    "    if i!='chs':\n",
    "        num1 = critics.get('chs').get('christmas in august')- critics.get(i).get('christmas in august')\n",
    "        num2 = critics.get('chs').get('boss baby')- critics.get(i).get('boss baby')\n",
    "        print(i,\" : \", 1/(1+sim(num1,num2))) #정규화"
   ]
  },
  {
   "cell_type": "code",
   "execution_count": 11,
   "metadata": {},
   "outputs": [],
   "source": [
    "def sim_distance(data, name1, name2):\n",
    "    sum=0\n",
    "    for i in data[name1]:\n",
    "        if i in data[name2]: #같은 영화를 봤다면\n",
    "            sum+=pow(data[name1][i]- data[name2][i],2)\n",
    "        \n",
    "    return 1/(1+sqrt(sum))"
   ]
  },
  {
   "cell_type": "code",
   "execution_count": 12,
   "metadata": {},
   "outputs": [
    {
     "data": {
      "text/plain": [
       "0.2402530733520421"
      ]
     },
     "execution_count": 12,
     "metadata": {},
     "output_type": "execute_result"
    }
   ],
   "source": [
    "sim_distance(critics, 'chs','leb')"
   ]
  },
  {
   "cell_type": "code",
   "execution_count": 19,
   "metadata": {},
   "outputs": [],
   "source": [
    "def top_match(data, name, index=3, sim_function=sim_distance):\n",
    "    li=[]\n",
    "    for i in data:\n",
    "        if name!=i: #자기 자신은 제외한다\n",
    "            li.append((sim_function(data,name,i),i)) # 유사도, 이름을 튜플에 묶어 리스트에 추가한다\n",
    "    li.sort() #오름차순 정렬\n",
    "    li.reverse() #내림차순 정렬\n",
    "    \n",
    "    return li[:index]\n"
   ]
  },
  {
   "cell_type": "code",
   "execution_count": 20,
   "metadata": {},
   "outputs": [
    {
     "data": {
      "text/plain": [
       "[(0.4721359549995794, 'hhd'),\n",
       " (0.2402530733520421, 'leb'),\n",
       " (0.2402530733520421, 'kmh')]"
      ]
     },
     "execution_count": 20,
     "metadata": {},
     "output_type": "execute_result"
    }
   ],
   "source": [
    "top_match(critics, 'chs')"
   ]
  },
  {
   "cell_type": "code",
   "execution_count": 27,
   "metadata": {},
   "outputs": [],
   "source": [
    "import matplotlib.pyplot as plt\n",
    "def barchart(data, labels): # data, labels는 list형태로 사용\n",
    "    positions = range(len(data))\n",
    "    plt.barh(positions, data, height=0.5,color='r') #가로\n",
    "    plt.yticks(positions, labels)\n",
    "    plt.xlabel('similarity') #x축\n",
    "    plt.ylabel('name') #y축\n",
    "    plt.show() #출력\n"
   ]
  },
  {
   "cell_type": "code",
   "execution_count": 22,
   "metadata": {},
   "outputs": [],
   "source": [
    "li = top_match(critics, 'chs')"
   ]
  },
  {
   "cell_type": "code",
   "execution_count": 23,
   "metadata": {},
   "outputs": [],
   "source": [
    "score= []\n",
    "names= []\n",
    " \n",
    "for i in li:\n",
    "    score.append(i[0])\n",
    "    names.append(i[1])"
   ]
  },
  {
   "cell_type": "code",
   "execution_count": 24,
   "metadata": {},
   "outputs": [
    {
     "data": {
      "text/plain": [
       "[0.4721359549995794, 0.2402530733520421, 0.2402530733520421]"
      ]
     },
     "execution_count": 24,
     "metadata": {},
     "output_type": "execute_result"
    }
   ],
   "source": [
    "score"
   ]
  },
  {
   "cell_type": "code",
   "execution_count": 25,
   "metadata": {},
   "outputs": [
    {
     "data": {
      "text/plain": [
       "['hhd', 'leb', 'kmh']"
      ]
     },
     "execution_count": 25,
     "metadata": {},
     "output_type": "execute_result"
    }
   ],
   "source": [
    "names"
   ]
  },
  {
   "cell_type": "code",
   "execution_count": 28,
   "metadata": {},
   "outputs": [
    {
     "data": {
      "image/png": "[encoded data removed]",
      "text/plain": [
       "<Figure size 432x288 with 1 Axes>"
      ]
     },
     "metadata": {
      "needs_background": "light"
     },
     "output_type": "display_data"
    }
   ],
   "source": [
    "barchart(score,names)"
   ]
  },
  {
   "cell_type": "code",
   "execution_count": 29,
   "metadata": {},
   "outputs": [],
   "source": [
    "critics = {\n",
    "    '차현석': {\n",
    "        '택시운전사': 2.5,\n",
    "        '남한산성': 3.5,\n",
    "        '킹스맨:골든서클': 3.0,\n",
    "        '범죄도시': 3.5,\n",
    "        '아이 캔 스피크': 2.5,\n",
    "        'The Night Listener': 3.0,\n",
    "    },\n",
    "    '황해도': {\n",
    "        '택시운전사': 1.0,\n",
    "        '남한산성': 4.5,\n",
    "        '킹스맨:골든서클': 0.5,\n",
    "        '범죄도시': 1.5,\n",
    "        '아이 캔 스피크': 4.5,\n",
    "        'The Night Listener': 5.0,\n",
    "    },\n",
    "    '김미희': {\n",
    "        '택시운전사': 3.0,\n",
    "        '남한산성': 3.5,\n",
    "        '킹스맨:골든서클': 1.5,\n",
    "        '범죄도시': 5.0,\n",
    "        'The Night Listener': 3.0,\n",
    "        '아이 캔 스피크': 3.5,\n",
    "    },\n",
    "    '김준형': {\n",
    "        '택시운전사': 2.5,\n",
    "        '남한산성': 3.0,\n",
    "        '범죄도시': 3.5,\n",
    "        'The Night Listener': 4.0,\n",
    "    },\n",
    "    '이은비': {\n",
    "        '남한산성': 3.5,\n",
    "        '킹스맨:골든서클': 3.0,\n",
    "        'The Night Listener': 4.5,\n",
    "        '범죄도시': 4.0,\n",
    "        '아이 캔 스피크': 2.5,\n",
    "    },\n",
    "    '임명진': {\n",
    "        '택시운전사': 3.0,\n",
    "        '남한산성': 4.0,\n",
    "        '킹스맨:골든서클': 2.0,\n",
    "        '범죄도시': 3.0,\n",
    "        'The Night Listener': 3.5,\n",
    "        '아이 캔 스피크': 2.0,\n",
    "    },\n",
    "    '심수정': {\n",
    "        '택시운전사': 3.0,\n",
    "        '남한산성': 4.0,\n",
    "        'The Night Listener': 3.0,\n",
    "        '범죄도시': 5.0,\n",
    "        '아이 캔 스피크': 3.5,\n",
    "    },\n",
    "    '박병관': {'남한산성': 4.5, '아이 캔 스피크': 1.0,\n",
    "             '범죄도시': 4.0},\n",
    "}\n"
   ]
  },
  {
   "cell_type": "code",
   "execution_count": 30,
   "metadata": {},
   "outputs": [],
   "source": [
    "from matplotlib import font_manager, rc #한글이 나오게\n",
    "font_name = font_manager.FontProperties(fname=\"c:/Windows/Fonts/malgun.ttf\").get_name()\n",
    "rc('font', family=font_name)\n"
   ]
  },
  {
   "cell_type": "code",
   "execution_count": 31,
   "metadata": {},
   "outputs": [
    {
     "data": {
      "image/png": "[encoded data removed]",
      "text/plain": [
       "<Figure size 1008x576 with 1 Axes>"
      ]
     },
     "metadata": {
      "needs_background": "light"
     },
     "output_type": "display_data"
    }
   ],
   "source": [
    "plt.figure(figsize=(14,8))\n",
    "plt.plot([1,2,3],[1,2,3],'g^') #각각의 값과 점의 모양설정\n",
    "plt.text(1,1,'사과') #텍스트 찍기\n",
    "plt.text(2,2,'바나나')\n",
    "plt.text(3,3,'포도')\n",
    "#각 축의 크기 설정\n",
    "plt.axis([0,6,0,6]) # 그래프의 x축,y축 크기설정\n",
    "plt.show()\n"
   ]
  },
  {
   "cell_type": "code",
   "execution_count": 32,
   "metadata": {},
   "outputs": [],
   "source": [
    "# critics data 이용해 scatter plot 그리기\n",
    "def drawGraph(data, name1, name2):\n",
    "    plt.figure(figsize=(14,8)) # plot 크기설정\n",
    "    \n",
    "    # plot 좌표를 위한 list 선언\n",
    "    li = []\n",
    "    li2 = []\n",
    "    \n",
    "    for i in critics[name1]: # i = 키 값\n",
    "        if i in data[name2]: # 같은 영화를 평가했을때만\n",
    "            li.append(critics[name1][i]) # name1의 평점 li[]에 추가\n",
    "            li2.append(critics[name2][i]) # name2의 평점 li2[]에 추가\n",
    "            plt.text(critics[name1][i],critics[name2][i],i) # 영화 제목 text 찍기\n",
    "            \n",
    "    plt.plot(li,li2,'ro') #plot그리기\n",
    "    \n",
    "    #각 축의 크기 설정 (0에서 6까지)\n",
    "    plt.axis([0,6,0,6])\n",
    " \n",
    "    # x축과 y축 이름 설정\n",
    "    plt.xlabel(name1)\n",
    "    plt.ylabel(name2)\n",
    " \n",
    "    # 그리기\n",
    "    plt.show()\n"
   ]
  },
  {
   "cell_type": "code",
   "execution_count": 33,
   "metadata": {},
   "outputs": [
    {
     "data": {
      "image/png": "[encoded data removed]",
      "text/plain": [
       "<Figure size 1008x576 with 1 Axes>"
      ]
     },
     "metadata": {
      "needs_background": "light"
     },
     "output_type": "display_data"
    }
   ],
   "source": [
    "drawGraph(critics,'황해도','임명진')"
   ]
  },
  {
   "cell_type": "code",
   "execution_count": 34,
   "metadata": {},
   "outputs": [
    {
     "data": {
      "image/png": "[encoded data removed]",
      "text/plain": [
       "<Figure size 1008x576 with 1 Axes>"
      ]
     },
     "metadata": {
      "needs_background": "light"
     },
     "output_type": "display_data"
    }
   ],
   "source": [
    "drawGraph(critics,'심수정','차현석')"
   ]
  },
  {
   "cell_type": "code",
   "execution_count": 35,
   "metadata": {},
   "outputs": [],
   "source": [
    "# 피어슨 상관계수 구하기\n",
    "def sim_pearson(data, name1, name2):\n",
    "    sumX=0 # X의 합\n",
    "    sumY=0 # Y의 합\n",
    "    sumPowX=0 # X 제곱의 합\n",
    "    sumPowY=0 # Y 제곱의 합\n",
    "    sumXY=0 # X*Y의 합\n",
    "    count=0 #영화 개수\n",
    "    \n",
    "    for i in data[name1]: # i = key\n",
    "        if i in data[name2]: # 같은 영화를 평가했을때만\n",
    "            sumX+=data[name1][i]\n",
    "            sumY+=data[name2][i]\n",
    "            sumPowX+=pow(data[name1][i],2)\n",
    "            sumPowY+=pow(data[name2][i],2)\n",
    "            sumXY+=data[name1][i]*data[name2][i]\n",
    "            count+=1\n",
    "    \n",
    "    return ( sumXY- ((sumX*sumY)/count) )/ sqrt( (sumPowX - (pow(sumX,2) / count)) * (sumPowY - (pow(sumY,2)/count)))\n",
    " \n"
   ]
  },
  {
   "cell_type": "code",
   "execution_count": 36,
   "metadata": {},
   "outputs": [
    {
     "data": {
      "text/plain": [
       "0.41791069697885247"
      ]
     },
     "execution_count": 36,
     "metadata": {},
     "output_type": "execute_result"
    }
   ],
   "source": [
    "sim_pearson(critics,'황해도','임명진')"
   ]
  },
  {
   "cell_type": "code",
   "execution_count": 37,
   "metadata": {},
   "outputs": [
    {
     "data": {
      "text/plain": [
       "0.7470178808339965"
      ]
     },
     "execution_count": 37,
     "metadata": {},
     "output_type": "execute_result"
    }
   ],
   "source": [
    "sim_pearson(critics, '심수정','차현석')"
   ]
  },
  {
   "cell_type": "code",
   "execution_count": 38,
   "metadata": {},
   "outputs": [],
   "source": [
    "# 딕셔너리 돌면서 상관계수순으로 정렬\n",
    "def top_match(data, name, index=3, sim_function=sim_pearson):\n",
    "    li=[]\n",
    "    for i in data: #딕셔너리를 돌고\n",
    "        if name!=i: #자기 자신이 아닐때만\n",
    "            li.append((sim_function(data,name,i),i)) #sim_function()을 통해 상관계수를 구하고 li[]에 추가\n",
    "    li.sort() #오름차순\n",
    "    li.reverse() #내림차순\n",
    "    return li[:index]\n"
   ]
  },
  {
   "cell_type": "code",
   "execution_count": 43,
   "metadata": {},
   "outputs": [
    {
     "data": {
      "text/plain": [
       "[(0.9912407071619299, '차현석'),\n",
       " (0.9244734516419049, '임명진'),\n",
       " (0.8934051474415647, '이은비'),\n",
       " (0.66284898035987, '심수정'),\n",
       " (0.38124642583151164, '김미희'),\n",
       " (-0.38124642583151164, '황해도')]"
      ]
     },
     "execution_count": 43,
     "metadata": {},
     "output_type": "execute_result"
    }
   ],
   "source": [
    "top_match(critics, '박병관',6)"
   ]
  },
  {
   "cell_type": "code",
   "execution_count": 40,
   "metadata": {},
   "outputs": [],
   "source": [
    "def getRecommendation (data,person,sim_function=sim_pearson):\n",
    "    result = top_match(critics, person ,len(data))\n",
    "    \n",
    "    simSum=0 # 유사도 합을 위한 변수\n",
    "    score=0 # 평점 합을 위한 변수\n",
    "    li=[] # 리턴을 위한 리스트\n",
    "    score_dic={} # 유사도 총합을 위한 dic\n",
    "    sim_dic={} # 평점 총합을 위한 dic\n",
    " \n",
    "    for sim,name in result: # 튜플이므로 한번에 \n",
    "        if sim<0 : continue #유사도가 양수인 사람만\n",
    "        for movie in data[name]: \n",
    "            if movie not in data[person]: #name이 평가를 내리지 않은 영화\n",
    "                score+=sim*data[name][movie] # 그사람의 영화평점 * 유사도\n",
    "                score_dic.setdefault(movie,0) # 기본값 설정\n",
    "                score_dic[movie]+=score # 합계 구함\n",
    " \n",
    "                # 조건에 맞는 사람의 유사도의 누적합을 구한다\n",
    "                sim_dic.setdefault(movie,0) \n",
    "                sim_dic[movie]+=sim\n",
    " \n",
    "            score=0  #영화가 바뀌었으니 초기화한다\n",
    "    \n",
    "    for key in score_dic: \n",
    "        score_dic[key]=score_dic[key]/sim_dic[key] # 평점 총합/ 유사도 총합\n",
    "        li.append((score_dic[key],key)) # list((tuple))의 리턴을 위해서.\n",
    "    li.sort() #오름차순\n",
    "    li.reverse() #내림차순\n",
    "    return li\n"
   ]
  },
  {
   "cell_type": "code",
   "execution_count": 41,
   "metadata": {},
   "outputs": [
    {
     "data": {
      "text/plain": [
       "[(3.467750847406967, 'The Night Listener'),\n",
       " (2.8325499182641614, '택시운전사'),\n",
       " (2.5309807037655645, '킹스맨:골든서클')]"
      ]
     },
     "execution_count": 41,
     "metadata": {},
     "output_type": "execute_result"
    }
   ],
   "source": [
    "getRecommendation(critics, '박병관')"
   ]
  },
  {
   "cell_type": "code",
   "execution_count": null,
   "metadata": {},
   "outputs": [],
   "source": []
  }
 ],
 "metadata": {
  "kernelspec": {
   "display_name": "Python 3",
   "language": "python",
   "name": "python3"
  },
  "language_info": {
   "codemirror_mode": {
    "name": "ipython",
    "version": 3
   },
   "file_extension": ".py",
   "mimetype": "text/x-python",
   "name": "python",
   "nbconvert_exporter": "python",
   "pygments_lexer": "ipython3",
   "version": "3.7.3"
  }
 },
 "nbformat": 4,
 "nbformat_minor": 2
}
